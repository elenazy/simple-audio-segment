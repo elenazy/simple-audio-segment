{
 "cells": [
  {
   "cell_type": "markdown",
   "metadata": {},
   "source": [
    "# 创建一段没有声音的音频片段"
   ]
  },
  {
   "cell_type": "code",
   "execution_count": 1,
   "metadata": {},
   "outputs": [],
   "source": [
    "from pydub import AudioSegment\n",
    "ten_second_silence = AudioSegment.silent(duration=10000)"
   ]
  },
  {
   "cell_type": "markdown",
   "metadata": {},
   "source": [
    "Pydub只支持原生的wav格式的文件处理。\n",
    "如果处理其他格式的音频，或者说你想处理媒体文件中的音频那你需要在你本地安装FFmpeg支持。\n",
    "\n",
    "这里出了一些问题，缺少ffmpeg，用pip不管用，可以用 sudo apt-get install ffmpeg 安装"
   ]
  },
  {
   "cell_type": "markdown",
   "metadata": {},
   "source": [
    "# 音频剪切\n",
    "下列代码运行OK，截取时中括号前不留空格,只能截取前或后一端，命令窗口闪一下，表示调用ffmpeg,"
   ]
  },
  {
   "cell_type": "code",
   "execution_count": 6,
   "metadata": {
    "scrolled": true
   },
   "outputs": [
    {
     "data": {
      "text/plain": [
       "<_io.BufferedRandom name='speech_dtw_qbe_wav/wav/segment_search1.wav'>"
      ]
     },
     "execution_count": 6,
     "metadata": {},
     "output_type": "execute_result"
    }
   ],
   "source": [
    "from pydub import AudioSegment  \n",
    "input_music = AudioSegment.from_wav(\"speech_dtw_qbe_wav/wav/search1.wav\") # 加载mp3音频\n",
    "output_music = input_music[:3000] # 截取音频的前3秒(单位为毫秒)\n",
    "#output_music = input_music[3000:] # 截取音频的最后3秒(单位为毫秒)\n",
    "output_music.export(\"speech_dtw_qbe_wav/wav/segment_search1.wav\", format=\"wav\") # 保存音频，前面为保存的路径，后面为保存的格式\n"
   ]
  },
  {
   "cell_type": "markdown",
   "metadata": {},
   "source": [
    "# 音频合并"
   ]
  },
  {
   "cell_type": "code",
   "execution_count": 7,
   "metadata": {
    "scrolled": true
   },
   "outputs": [
    {
     "name": "stdout",
     "output_type": "stream",
     "text": [
      "6934 1\n"
     ]
    }
   ],
   "source": [
    "from pydub import AudioSegment\n",
    "\n",
    "# 加载需要合并的两个mp3音频\n",
    "_music1 = AudioSegment.from_wav(\"speech_dtw_qbe_wav/wav/search1.wav\")\n",
    "_music2 = AudioSegment.from_wav(\"speech_dtw_qbe_wav/wav/search2.wav\")\n",
    "\n",
    "#获取两个音频的响度（音量）\n",
    "_music1_db = _music1.dBFS\n",
    "_music2_db = _music2.dBFS\n",
    "\n",
    "# 获取两个音频的时长，单位为毫秒\n",
    "_music1_time = len(_music1)\n",
    "_music2_time = len(_music2)\n",
    "\n",
    "# 调整两个音频的响度一致\n",
    "dbplus = _music1_db - _music2_db\n",
    "if dbplus < 0:\n",
    "    _music1 += abs(dbplus)\n",
    "elif dbplus > 0:\n",
    "    _music2 += abs(dbplus)\n",
    "    \n",
    "# 合并音频\n",
    "_musictwo = _music1 + _music2\n",
    "\n",
    "# 简单输入合并之后的音频\n",
    "_musictwo.export(\"speech_dtw_qbe_wav/wav/merge_search1+search2.wav\", format=\"wav\")\n",
    "\n",
    "#复杂输入合并之后的音频\n",
    "# bitrate：比特率，album：专辑名称，artist：歌手，cover：封面图片\n",
    "#output_music.export(\"two02.mp3\", format=\"mp3\", bitrate=\"192k\", tags={\"album\": \"专辑\", \"artist\": \"歌手\"}, cover=\"封面.jpg\") \n",
    "print(len(_musictwo), _musictwo.channels)# 合并音频的时长，音频的声道，1是单声道，2是立体声\n"
   ]
  },
  {
   "cell_type": "code",
   "execution_count": null,
   "metadata": {},
   "outputs": [],
   "source": []
  }
 ],
 "metadata": {
  "kernelspec": {
   "display_name": "Python 3",
   "language": "python",
   "name": "python3"
  },
  "language_info": {
   "codemirror_mode": {
    "name": "ipython",
    "version": 3
   },
   "file_extension": ".py",
   "mimetype": "text/x-python",
   "name": "python",
   "nbconvert_exporter": "python",
   "pygments_lexer": "ipython3",
   "version": "3.7.6"
  }
 },
 "nbformat": 4,
 "nbformat_minor": 4
}
